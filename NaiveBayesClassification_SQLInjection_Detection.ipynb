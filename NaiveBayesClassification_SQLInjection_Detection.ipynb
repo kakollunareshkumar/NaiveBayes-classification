{
 "cells": [
  {
   "cell_type": "code",
   "execution_count": 1,
   "id": "5c085374",
   "metadata": {},
   "outputs": [
    {
     "name": "stderr",
     "output_type": "stream",
     "text": [
      "[nltk_data] Downloading package punkt to\n",
      "[nltk_data]     C:\\Users\\91898\\AppData\\Roaming\\nltk_data...\n",
      "[nltk_data]   Package punkt is already up-to-date!\n",
      "[nltk_data] Downloading package stopwords to\n",
      "[nltk_data]     C:\\Users\\91898\\AppData\\Roaming\\nltk_data...\n",
      "[nltk_data]   Package stopwords is already up-to-date!\n",
      "[nltk_data] Downloading package wordnet to\n",
      "[nltk_data]     C:\\Users\\91898\\AppData\\Roaming\\nltk_data...\n",
      "[nltk_data]   Package wordnet is already up-to-date!\n"
     ]
    }
   ],
   "source": [
    "#import packages and download corresponding packages like punkt stopwords and wordnet\n",
    "import glob\n",
    "import time\n",
    "import pandas as pd\n",
    "from nltk import ngrams\n",
    "import nltk\n",
    "nltk.download('punkt')\n",
    "nltk.download('stopwords')\n",
    "nltk.download('wordnet')\n",
    "from nltk.stem import PorterStemmer\n",
    "from nltk.tokenize import sent_tokenize, word_tokenize\n",
    "from nltk.stem import WordNetLemmatizer\n",
    "from nltk.corpus import stopwords \n",
    "from nltk.tokenize import word_tokenize\n",
    "import numpy as np\n",
    "import seaborn as sns"
   ]
  },
  {
   "cell_type": "code",
   "execution_count": 2,
   "id": "40c4019a",
   "metadata": {},
   "outputs": [],
   "source": [
    "#Read the sqli.csv file in to dataframe with UTF-16 encoding to bring all available characters. \n",
    "#Change the location to the path of the dataset when reading the dataset\n",
    "import pandas as pd\n",
    "df = pd.read_csv(\"sqli.csv\",encoding='utf-16')"
   ]
  },
  {
   "cell_type": "code",
   "execution_count": 3,
   "id": "662371bf",
   "metadata": {},
   "outputs": [],
   "source": [
    "#Vecrorization function takes max_df 7 times to occur in a text and min_df to occur 2 times and stop words removes words which does not add value.\n",
    "#Convert all sentence column to upper case letters. \n",
    "from sklearn.feature_extraction.text import CountVectorizer\n",
    "z = CountVectorizer( min_df=2, max_df=0.7, stop_words=stopwords.words('english'))\n",
    "letters = z.fit_transform(df['Sentence'].values.astype('U')).toarray()"
   ]
  },
  {
   "cell_type": "code",
   "execution_count": 4,
   "id": "7a23bf65",
   "metadata": {},
   "outputs": [],
   "source": [
    "uppercase_text=pd.DataFrame(letters)"
   ]
  },
  {
   "cell_type": "code",
   "execution_count": 5,
   "id": "9966857c",
   "metadata": {},
   "outputs": [],
   "source": [
    "df=pd.concat([df,uppercase_text],axis=1)"
   ]
  },
  {
   "cell_type": "code",
   "execution_count": 6,
   "id": "7993ece2",
   "metadata": {},
   "outputs": [],
   "source": [
    "X=df[df.columns[2:]]"
   ]
  },
  {
   "cell_type": "code",
   "execution_count": 7,
   "id": "75017c81",
   "metadata": {},
   "outputs": [],
   "source": [
    "#extract the label column count in to y variable\n",
    "y=df['Label']"
   ]
  },
  {
   "cell_type": "code",
   "execution_count": 8,
   "id": "a7d0237f",
   "metadata": {},
   "outputs": [],
   "source": [
    "from sklearn.model_selection import train_test_split"
   ]
  },
  {
   "cell_type": "code",
   "execution_count": 9,
   "id": "90cdd60d",
   "metadata": {},
   "outputs": [],
   "source": [
    "#train  the dataset with 80 percent and test the dataset with 20percent and random state is assigned to take same training \n",
    "#and test data at all times same with out changing data in train and test\n",
    "X_train, X_test, y_train, y_test = train_test_split(X, y, test_size=0.2, random_state=42)"
   ]
  },
  {
   "cell_type": "code",
   "execution_count": 10,
   "id": "72f1d380",
   "metadata": {},
   "outputs": [],
   "source": [
    "from sklearn.linear_model import LogisticRegression\n",
    "clf = LogisticRegression(random_state=42).fit(X_train, y_train)"
   ]
  },
  {
   "cell_type": "code",
   "execution_count": 11,
   "id": "86eb89b6",
   "metadata": {},
   "outputs": [],
   "source": [
    "#Using Logistic Regression\n",
    "from sklearn.metrics import accuracy_score"
   ]
  },
  {
   "cell_type": "code",
   "execution_count": 12,
   "id": "bdd87f5f",
   "metadata": {},
   "outputs": [],
   "source": [
    "y_pred=clf.predict(X_test)"
   ]
  },
  {
   "cell_type": "code",
   "execution_count": 13,
   "id": "5a0b88ec",
   "metadata": {},
   "outputs": [
    {
     "data": {
      "text/plain": [
       "0.9285714285714286"
      ]
     },
     "execution_count": 13,
     "metadata": {},
     "output_type": "execute_result"
    }
   ],
   "source": [
    "accuracy_score(y_test, y_pred)"
   ]
  },
  {
   "cell_type": "code",
   "execution_count": 14,
   "id": "49da43ec",
   "metadata": {},
   "outputs": [
    {
     "data": {
      "text/plain": [
       "array([[585,   3],\n",
       "       [ 57, 195]], dtype=int64)"
      ]
     },
     "execution_count": 14,
     "metadata": {},
     "output_type": "execute_result"
    }
   ],
   "source": [
    "#Confusion matrix  for logistic regression\n",
    "from sklearn.metrics import confusion_matrix  \n",
    "import matplotlib.pyplot as plt\n",
    "cm_log= confusion_matrix(y_test, y_pred)\n",
    "cm_log"
   ]
  },
  {
   "cell_type": "code",
   "execution_count": 15,
   "id": "ebb915a0",
   "metadata": {},
   "outputs": [
    {
     "data": {
      "image/png": "[encoded data removed]",
      "text/plain": [
       "<Figure size 288x288 with 1 Axes>"
      ]
     },
     "metadata": {
      "needs_background": "light"
     },
     "output_type": "display_data"
    }
   ],
   "source": [
    "from mlxtend.plotting import plot_confusion_matrix\n",
    " \n",
    "fig, ax = plot_confusion_matrix(cm_log, figsize=(4, 4), cmap=plt.cm.Blues)\n",
    "plt.xlabel('predicted', fontsize=14)\n",
    "plt.ylabel('Actual', fontsize=14)\n",
    "plt.title('Logistic regression', fontsize=14)\n",
    "plt.show()"
   ]
  },
  {
   "cell_type": "code",
   "execution_count": null,
   "id": "e9a227e7",
   "metadata": {},
   "outputs": [],
   "source": []
  },
  {
   "cell_type": "code",
   "execution_count": 16,
   "id": "4c29ac27",
   "metadata": {},
   "outputs": [],
   "source": [
    "#Convolutional Neural Network\n",
    "from keras.models import Sequential\n",
    "from keras import layers\n",
    "from keras.preprocessing.text import Tokenizer\n",
    "from keras.wrappers.scikit_learn import KerasClassifier"
   ]
  },
  {
   "cell_type": "code",
   "execution_count": 17,
   "id": "549814be",
   "metadata": {},
   "outputs": [],
   "source": [
    " # Number of characteristics\n",
    "input_dim = X_train.shape[1] \n",
    "\n",
    "k = Sequential()\n",
    "k.add(layers.Dense(20, input_dim=input_dim, activation='relu'))\n",
    "k.add(layers.Dense(10,  activation='tanh'))\n",
    "k.add(layers.Dense(1024, activation='relu'))\n",
    "\n",
    "k.add(layers.BatchNormalization())\n",
    "k.add(layers.Dropout(0.5))\n",
    "k.add(layers.Dense(1, activation='sigmoid'))\n",
    "\n"
   ]
  },
  {
   "cell_type": "code",
   "execution_count": 18,
   "id": "0642f32d",
   "metadata": {},
   "outputs": [
    {
     "name": "stdout",
     "output_type": "stream",
     "text": [
      "Model: \"sequential\"\n",
      "_________________________________________________________________\n",
      " Layer (type)                Output Shape              Param #   \n",
      "=================================================================\n",
      " dense (Dense)               (None, 20)                94360     \n",
      "                                                                 \n",
      " dense_1 (Dense)             (None, 10)                210       \n",
      "                                                                 \n",
      " dense_2 (Dense)             (None, 1024)              11264     \n",
      "                                                                 \n",
      " batch_normalization (BatchN  (None, 1024)             4096      \n",
      " ormalization)                                                   \n",
      "                                                                 \n",
      " dropout (Dropout)           (None, 1024)              0         \n",
      "                                                                 \n",
      " dense_3 (Dense)             (None, 1)                 1025      \n",
      "                                                                 \n",
      "=================================================================\n",
      "Total params: 110,955\n",
      "Trainable params: 108,907\n",
      "Non-trainable params: 2,048\n",
      "_________________________________________________________________\n"
     ]
    }
   ],
   "source": [
    "k.compile(loss='binary_crossentropy', \n",
    "              optimizer='adam', \n",
    "              metrics=['accuracy'])\n",
    "k.summary()"
   ]
  },
  {
   "cell_type": "code",
   "execution_count": 19,
   "id": "af9fad84",
   "metadata": {},
   "outputs": [
    {
     "name": "stdout",
     "output_type": "stream",
     "text": [
      "Epoch 1/10\n",
      "224/224 [==============================] - 3s 6ms/step - loss: 0.2102 - accuracy: 0.9110 - val_loss: 0.6752 - val_accuracy: 0.7000\n",
      "Epoch 2/10\n",
      "224/224 [==============================] - 1s 3ms/step - loss: 0.1010 - accuracy: 0.9625 - val_loss: 0.2518 - val_accuracy: 0.8833\n",
      "Epoch 3/10\n",
      "224/224 [==============================] - 2s 10ms/step - loss: 0.0994 - accuracy: 0.9646 - val_loss: 0.1176 - val_accuracy: 0.9262\n",
      "Epoch 4/10\n",
      "224/224 [==============================] - 1s 3ms/step - loss: 0.0900 - accuracy: 0.9679 - val_loss: 0.0748 - val_accuracy: 0.9726\n",
      "Epoch 5/10\n",
      "224/224 [==============================] - 1s 3ms/step - loss: 0.0962 - accuracy: 0.9652 - val_loss: 0.0690 - val_accuracy: 0.9750\n",
      "Epoch 6/10\n",
      "224/224 [==============================] - 2s 10ms/step - loss: 0.0793 - accuracy: 0.9723 - val_loss: 0.1020 - val_accuracy: 0.9679\n",
      "Epoch 7/10\n",
      "224/224 [==============================] - 2s 7ms/step - loss: 0.0784 - accuracy: 0.9696 - val_loss: 0.0994 - val_accuracy: 0.9667\n",
      "Epoch 8/10\n",
      "224/224 [==============================] - 2s 7ms/step - loss: 0.0771 - accuracy: 0.9693 - val_loss: 0.0997 - val_accuracy: 0.9667\n",
      "Epoch 9/10\n",
      "224/224 [==============================] - 2s 8ms/step - loss: 0.0692 - accuracy: 0.9741 - val_loss: 0.0588 - val_accuracy: 0.9786\n",
      "Epoch 10/10\n",
      "224/224 [==============================] - 2s 7ms/step - loss: 0.0863 - accuracy: 0.9693 - val_loss: 0.0635 - val_accuracy: 0.9750\n"
     ]
    }
   ],
   "source": [
    "classifier_nn = k.fit(X_train,y_train,\n",
    "                    epochs=10,\n",
    "                    verbose=True,\n",
    "                    validation_data=(X_test, y_test),\n",
    "                    batch_size=15)"
   ]
  },
  {
   "cell_type": "code",
   "execution_count": 20,
   "id": "655b347a",
   "metadata": {},
   "outputs": [],
   "source": [
    "nn_pred=k.predict(X_test)"
   ]
  },
  {
   "cell_type": "code",
   "execution_count": 21,
   "id": "22244070",
   "metadata": {},
   "outputs": [],
   "source": [
    "for i in range(len(nn_pred)):\n",
    "    if nn_pred[i]>0.5:\n",
    "        nn_pred[i]=1\n",
    "    elif nn_pred[i]<=0.5:\n",
    "        nn_pred[i]=0\n",
    "\n"
   ]
  },
  {
   "cell_type": "code",
   "execution_count": 22,
   "id": "f18404bd",
   "metadata": {},
   "outputs": [
    {
     "data": {
      "text/plain": [
       "0.975"
      ]
     },
     "execution_count": 22,
     "metadata": {},
     "output_type": "execute_result"
    }
   ],
   "source": [
    "accuracy_score(y_test,nn_pred)"
   ]
  },
  {
   "cell_type": "code",
   "execution_count": 23,
   "id": "7a4a2b7e",
   "metadata": {},
   "outputs": [],
   "source": [
    "def accuracy_percent(true_positives,true_negatives,false_positives,false_negatives):\n",
    "    \n",
    "    accuracy = (true_positives+true_negatives) / (true_positives+true_negatives+false_positives+false_negatives)\n",
    "    \n",
    "    return accuracy"
   ]
  },
  {
   "cell_type": "code",
   "execution_count": 24,
   "id": "bff770d7",
   "metadata": {},
   "outputs": [],
   "source": [
    "def precision_percent(true_positives,false_positives):\n",
    "    \n",
    "    precision = true_positives / (true_positives+false_positives)\n",
    "    \n",
    "    return precision"
   ]
  },
  {
   "cell_type": "code",
   "execution_count": 25,
   "id": "2f0689f6",
   "metadata": {},
   "outputs": [],
   "source": [
    "def recall_percent(true_positives,false_negatives):\n",
    "    \n",
    "    recall=true_positives / (true_positives+false_negatives)\n",
    "    \n",
    "    return recall"
   ]
  },
  {
   "cell_type": "code",
   "execution_count": 26,
   "id": "dcb53e88",
   "metadata": {},
   "outputs": [],
   "source": [
    "def confusion_matrix(truth,predicted):\n",
    "    \n",
    "    true_positive = 0\n",
    "    true_negative = 0\n",
    "    false_positive = 0\n",
    "    false_negative = 0\n",
    "    \n",
    "    for true,pred in zip(truth,predicted):\n",
    "        if true == 1:\n",
    "            if pred == true:\n",
    "                true_positive =true_positive+1\n",
    "            elif pred != true:\n",
    "                false_negative =false_negative+1\n",
    "\n",
    "        elif true == 0:\n",
    "            if pred == true:\n",
    "                true_negative =true_negative+1\n",
    "            elif pred != true:\n",
    "                false_positive =false_positive+1\n",
    "            \n",
    "    accuracy=accuracy_percent(true_positive, true_negative, false_positive, false_negative)\n",
    "    precision=precision_percent(true_positive, false_positive)\n",
    "    recall=recall_percent(true_positive, false_negative)\n",
    "    \n",
    "    return (accuracy,\n",
    "            precision,\n",
    "           recall)"
   ]
  },
  {
   "cell_type": "code",
   "execution_count": 27,
   "id": "fa1d285a",
   "metadata": {},
   "outputs": [],
   "source": [
    "accuracy,precision,recall=confusion_matrix(y_test,nn_pred)"
   ]
  },
  {
   "cell_type": "code",
   "execution_count": 28,
   "id": "da5ff47f",
   "metadata": {
    "scrolled": true
   },
   "outputs": [
    {
     "name": "stdout",
     "output_type": "stream",
     "text": [
      "Accuracy percent : 0.975 \n",
      " Precision percent : 0.9261992619926199 \n",
      " Recall percent : 0.996031746031746\n"
     ]
    }
   ],
   "source": [
    "print(\"Accuracy percent : {0} \\n Precision percent : {1} \\n Recall percent : {2}\".format(accuracy, precision, recall))"
   ]
  },
  {
   "cell_type": "code",
   "execution_count": 29,
   "id": "f6d0b2fa",
   "metadata": {},
   "outputs": [
    {
     "data": {
      "text/plain": [
       "0.9261992619926199"
      ]
     },
     "execution_count": 29,
     "metadata": {},
     "output_type": "execute_result"
    }
   ],
   "source": [
    "from sklearn.metrics import precision_score\n",
    "precision_score(y_test, nn_pred)"
   ]
  },
  {
   "cell_type": "code",
   "execution_count": 30,
   "id": "4edd2a42",
   "metadata": {},
   "outputs": [
    {
     "data": {
      "text/plain": [
       "0.996031746031746"
      ]
     },
     "execution_count": 30,
     "metadata": {},
     "output_type": "execute_result"
    }
   ],
   "source": [
    "from sklearn.metrics import recall_score\n",
    "recall_score(y_test, nn_pred)"
   ]
  },
  {
   "cell_type": "code",
   "execution_count": 31,
   "id": "236f0467",
   "metadata": {},
   "outputs": [],
   "source": [
    "#Confusion matrix for CNN  \n",
    "from sklearn.metrics import confusion_matrix  \n",
    "import matplotlib.pyplot as plt\n",
    "cm_nn= confusion_matrix(y_test, nn_pred)\n"
   ]
  },
  {
   "cell_type": "code",
   "execution_count": 32,
   "id": "a7b2eed3",
   "metadata": {},
   "outputs": [
    {
     "data": {
      "image/png": "[encoded data removed]",
      "text/plain": [
       "<Figure size 288x288 with 1 Axes>"
      ]
     },
     "metadata": {
      "needs_background": "light"
     },
     "output_type": "display_data"
    }
   ],
   "source": [
    "from mlxtend.plotting import plot_confusion_matrix\n",
    " \n",
    "fig, ax = plot_confusion_matrix(cm_nn, figsize=(4, 4), cmap=plt.cm.Blues)\n",
    "plt.xlabel('Predicted', fontsize=14)\n",
    "plt.ylabel('Actual', fontsize=14)\n",
    "plt.title('CNN', fontsize=14)\n",
    "plt.show()"
   ]
  },
  {
   "cell_type": "code",
   "execution_count": null,
   "id": "48e7225f",
   "metadata": {},
   "outputs": [],
   "source": []
  },
  {
   "cell_type": "code",
   "execution_count": 33,
   "id": "3b4bab51",
   "metadata": {},
   "outputs": [
    {
     "name": "stdout",
     "output_type": "stream",
     "text": [
      "Confusion Matrix (Accuracy 0.9024)\n",
      "\n",
      "       Prediction\n",
      "Actual   0   1\n",
      "     0 508  80\n",
      "     1   2 250\n"
     ]
    }
   ],
   "source": [
    "# Random forest\n",
    "from sklearn.ensemble import RandomForestClassifier  \n",
    "from dmba import classificationSummary\n",
    "classifier= RandomForestClassifier(n_estimators= 10, criterion=\"entropy\")  \n",
    "classifier.fit(X_train, y_train)\n",
    "y_rand_pred= classifier.predict(X_test)\n",
    "y_pred\n",
    "classificationSummary(y_test, y_rand_pred)"
   ]
  },
  {
   "cell_type": "code",
   "execution_count": 34,
   "id": "24a78672",
   "metadata": {},
   "outputs": [
    {
     "name": "stdout",
     "output_type": "stream",
     "text": [
      "Accuracy percent:  0.9023809523809524\n",
      "Precision percent: 0.7575757575757576\n",
      "Recall percent:    0.9920634920634921\n"
     ]
    }
   ],
   "source": [
    "from sklearn.metrics import precision_score, recall_score, f1_score, accuracy_score\n",
    "print('Accuracy percent: ', accuracy_score(y_test, y_rand_pred))\n",
    "print('Precision percent:', precision_score(y_test, y_rand_pred))\n",
    "print('Recall percent:   ', recall_score(y_test, y_rand_pred))"
   ]
  },
  {
   "cell_type": "code",
   "execution_count": 35,
   "id": "621b44e0",
   "metadata": {},
   "outputs": [
    {
     "data": {
      "text/plain": [
       "array([[508,  80],\n",
       "       [  2, 250]], dtype=int64)"
      ]
     },
     "execution_count": 35,
     "metadata": {},
     "output_type": "execute_result"
    }
   ],
   "source": [
    "# Confusion matrix for random forest\n",
    "from sklearn.metrics import confusion_matrix  \n",
    "import matplotlib.pyplot as plt\n",
    "cm_reg= confusion_matrix(y_test, y_rand_pred)\n",
    "cm_reg"
   ]
  },
  {
   "cell_type": "code",
   "execution_count": 36,
   "id": "a6025cd8",
   "metadata": {},
   "outputs": [
    {
     "data": {
      "text/plain": [
       "0.9023809523809524"
      ]
     },
     "execution_count": 36,
     "metadata": {},
     "output_type": "execute_result"
    }
   ],
   "source": [
    "accuracy_score(y_test, y_rand_pred)\n"
   ]
  },
  {
   "cell_type": "code",
   "execution_count": 37,
   "id": "db24b7dd",
   "metadata": {},
   "outputs": [
    {
     "data": {
      "image/png": "[encoded data removed]",
      "text/plain": [
       "<Figure size 288x288 with 1 Axes>"
      ]
     },
     "metadata": {
      "needs_background": "light"
     },
     "output_type": "display_data"
    }
   ],
   "source": [
    "from mlxtend.plotting import plot_confusion_matrix\n",
    " \n",
    "fig, ax = plot_confusion_matrix(cm_reg, figsize=(4, 4), cmap=plt.cm.Blues)\n",
    "plt.xlabel('Predicted', fontsize=14)\n",
    "plt.ylabel('Actual', fontsize=14)\n",
    "plt.title('Random forest', fontsize=14)\n",
    "plt.show()"
   ]
  },
  {
   "cell_type": "code",
   "execution_count": 38,
   "id": "1a4dd6f4",
   "metadata": {},
   "outputs": [],
   "source": [
    "# Support vector classifier\n",
    "from sklearn.svm import SVC  \n",
    "classifier = SVC(kernel='linear', random_state=0)  \n",
    "classifier.fit(X_train, y_train)\n",
    "y_svm_pred= classifier.predict(X_test)\n"
   ]
  },
  {
   "cell_type": "code",
   "execution_count": 39,
   "id": "6d59eb78",
   "metadata": {},
   "outputs": [
    {
     "name": "stdout",
     "output_type": "stream",
     "text": [
      "Accuracy percent:  0.9380952380952381\n",
      "Precision percent: 0.8289473684210527\n",
      "Recall percent:    1.0\n"
     ]
    }
   ],
   "source": [
    "accuracy_score(y_test, y_svm_pred)\n",
    "from sklearn.metrics import precision_score, recall_score, accuracy_score\n",
    "print('Accuracy percent: ', accuracy_score(y_test, y_svm_pred))\n",
    "print('Precision percent:', precision_score(y_test, y_svm_pred))\n",
    "print('Recall percent:   ', recall_score(y_test, y_svm_pred))"
   ]
  },
  {
   "cell_type": "code",
   "execution_count": 40,
   "id": "ebc09da8",
   "metadata": {},
   "outputs": [
    {
     "data": {
      "text/plain": [
       "array([[508,  80],\n",
       "       [  2, 250]], dtype=int64)"
      ]
     },
     "execution_count": 40,
     "metadata": {},
     "output_type": "execute_result"
    }
   ],
   "source": [
    "#Confusion matrix  for SVM\n",
    "from sklearn.metrics import confusion_matrix  \n",
    "import matplotlib.pyplot as plt\n",
    "cm_svm= confusion_matrix(y_test, y_svm_pred)\n",
    "cm_reg"
   ]
  },
  {
   "cell_type": "code",
   "execution_count": 41,
   "id": "e24121c4",
   "metadata": {},
   "outputs": [
    {
     "data": {
      "image/png": "[encoded data removed]",
      "text/plain": [
       "<Figure size 288x288 with 1 Axes>"
      ]
     },
     "metadata": {
      "needs_background": "light"
     },
     "output_type": "display_data"
    }
   ],
   "source": [
    "from mlxtend.plotting import plot_confusion_matrix\n",
    " \n",
    "fig, ax = plot_confusion_matrix(cm_svm, figsize=(4, 4), cmap=plt.cm.Blues)\n",
    "plt.xlabel('Predicted', fontsize=14)\n",
    "plt.ylabel('Actual', fontsize=14)\n",
    "plt.title('SVM', fontsize=14)\n",
    "plt.show()"
   ]
  },
  {
   "cell_type": "code",
   "execution_count": 42,
   "id": "d4fa75a5",
   "metadata": {},
   "outputs": [
    {
     "name": "stdout",
     "output_type": "stream",
     "text": [
      "Accuracy percent:  0.8976190476190476\n",
      "Precision percent: 0.9825581395348837\n",
      "Recall percent:    0.6706349206349206\n"
     ]
    }
   ],
   "source": [
    "# ADABoost \n",
    "from sklearn.ensemble import AdaBoostClassifier\n",
    "ad=AdaBoostClassifier()\n",
    "ada_pred=ad.fit(X_train,y_train).predict(X_test)\n",
    "accuracy_score(y_test,ada_pred)\n",
    "\n",
    "from sklearn.metrics import precision_score, recall_score, accuracy_score\n",
    "print('Accuracy percent: ', accuracy_score(y_test, ada_pred))\n",
    "print('Precision percent:', precision_score(y_test, ada_pred))\n",
    "print('Recall percent:   ', recall_score(y_test, ada_pred))"
   ]
  },
  {
   "cell_type": "code",
   "execution_count": 43,
   "id": "32d6532a",
   "metadata": {},
   "outputs": [],
   "source": [
    "#Confusion matrix for ADA\n",
    "from sklearn.metrics import confusion_matrix  \n",
    "import matplotlib.pyplot as plt\n",
    "ada_cm= confusion_matrix(y_test, ada_pred)\n"
   ]
  },
  {
   "cell_type": "code",
   "execution_count": 44,
   "id": "8996c2f9",
   "metadata": {},
   "outputs": [
    {
     "data": {
      "image/png": "[encoded data removed]",
      "text/plain": [
       "<Figure size 288x288 with 1 Axes>"
      ]
     },
     "metadata": {
      "needs_background": "light"
     },
     "output_type": "display_data"
    }
   ],
   "source": [
    "from mlxtend.plotting import plot_confusion_matrix\n",
    " \n",
    "fig, ax = plot_confusion_matrix(ada_cm, figsize=(4, 4), cmap=plt.cm.Blues)\n",
    "plt.xlabel('Predicted', fontsize=14)\n",
    "plt.ylabel('Actual', fontsize=14)\n",
    "plt.title('ADA', fontsize=14)\n",
    "plt.show()"
   ]
  },
  {
   "cell_type": "code",
   "execution_count": null,
   "id": "20536d56",
   "metadata": {},
   "outputs": [],
   "source": []
  },
  {
   "cell_type": "code",
   "execution_count": 45,
   "id": "6b375996",
   "metadata": {},
   "outputs": [
    {
     "name": "stdout",
     "output_type": "stream",
     "text": [
      "Accuracy percent:  0.47023809523809523\n",
      "Precision percent: 0.335042735042735\n",
      "Recall percent:    0.7777777777777778\n"
     ]
    }
   ],
   "source": [
    "#K-NN classifier  \n",
    "from sklearn.neighbors import KNeighborsClassifier  \n",
    "classifier= KNeighborsClassifier(n_neighbors=5, metric='minkowski', p=2 )  \n",
    "classifier.fit(X_train, y_train) \n",
    "#Predicting the test set result  \n",
    "knn_pred= classifier.predict(X_test)\n",
    "accuracy_score(y_test,knn_pred)\n",
    "\n",
    "from sklearn.metrics import precision_score, recall_score, accuracy_score\n",
    "print('Accuracy percent: ', accuracy_score(y_test, knn_pred))\n",
    "print('Precision percent:', precision_score(y_test, knn_pred))\n",
    "print('Recall percent:   ', recall_score(y_test, knn_pred))"
   ]
  },
  {
   "cell_type": "code",
   "execution_count": 46,
   "id": "8369e2ba",
   "metadata": {},
   "outputs": [],
   "source": [
    "#Confusion matrix for KNN   \n",
    "from sklearn.metrics import confusion_matrix  \n",
    "import matplotlib.pyplot as plt\n",
    "knn_cm= confusion_matrix(y_test, knn_pred)\n"
   ]
  },
  {
   "cell_type": "code",
   "execution_count": 47,
   "id": "bf24311c",
   "metadata": {},
   "outputs": [
    {
     "data": {
      "image/png": "[encoded data removed]",
      "text/plain": [
       "<Figure size 288x288 with 1 Axes>"
      ]
     },
     "metadata": {
      "needs_background": "light"
     },
     "output_type": "display_data"
    }
   ],
   "source": [
    "from mlxtend.plotting import plot_confusion_matrix\n",
    "fig, ax = plot_confusion_matrix(knn_cm, figsize=(4, 4), cmap=plt.cm.Blues)\n",
    "plt.xlabel('Predicted', fontsize=14)\n",
    "plt.ylabel('Actual', fontsize=14)\n",
    "plt.title('KNN', fontsize=14)\n",
    "plt.show()"
   ]
  },
  {
   "cell_type": "code",
   "execution_count": null,
   "id": "f77f6953",
   "metadata": {},
   "outputs": [],
   "source": []
  },
  {
   "cell_type": "code",
   "execution_count": 48,
   "id": "bc53299b",
   "metadata": {},
   "outputs": [
    {
     "name": "stdout",
     "output_type": "stream",
     "text": [
      "Accuracy percent:  0.9773809523809524\n",
      "Precision percent: 0.9298892988929889\n",
      "Recall percent:    1.0\n"
     ]
    }
   ],
   "source": [
    "#Naive Bayes\n",
    "from sklearn.naive_bayes import GaussianNB  \n",
    "classifier = GaussianNB()  \n",
    "classifier.fit(X_train, y_train)\n",
    "#predict results  \n",
    "NB_pred = classifier.predict(X_test)\n",
    "accuracy_score(y_test,NB_pred)\n",
    "\n",
    "from sklearn.metrics import precision_score, recall_score, accuracy_score\n",
    "print('Accuracy percent: ', accuracy_score(y_test, NB_pred))\n",
    "print('Precision percent:', precision_score(y_test, NB_pred))\n",
    "print('Recall percent:   ', recall_score(y_test, NB_pred))"
   ]
  },
  {
   "cell_type": "code",
   "execution_count": 49,
   "id": "8596bed6",
   "metadata": {},
   "outputs": [],
   "source": [
    "#Confusion matrix for Naive Bayes\n",
    "from sklearn.metrics import confusion_matrix  \n",
    "import matplotlib.pyplot as plt\n",
    "NB_cm= confusion_matrix(y_test, NB_pred)\n"
   ]
  },
  {
   "cell_type": "code",
   "execution_count": 50,
   "id": "c3f2dbe5",
   "metadata": {},
   "outputs": [
    {
     "data": {
      "image/png": "[encoded data removed]",
      "text/plain": [
       "<Figure size 288x288 with 1 Axes>"
      ]
     },
     "metadata": {
      "needs_background": "light"
     },
     "output_type": "display_data"
    }
   ],
   "source": [
    "from mlxtend.plotting import plot_confusion_matrix\n",
    "fig, ax = plot_confusion_matrix(NB_cm, figsize=(4, 4), cmap=plt.cm.Blues)\n",
    "plt.xlabel('Predicted', fontsize=14)\n",
    "plt.ylabel('Actual', fontsize=14)\n",
    "plt.title('Naive Bayes', fontsize=14)\n",
    "plt.show()"
   ]
  },
  {
   "cell_type": "code",
   "execution_count": 51,
   "id": "dd96f330",
   "metadata": {},
   "outputs": [
    {
     "name": "stdout",
     "output_type": "stream",
     "text": [
      "Accuracy percent:  0.8821428571428571\n",
      "Precision percent: 0.717948717948718\n",
      "Recall percent:    1.0\n"
     ]
    }
   ],
   "source": [
    "#Decision Tree\n",
    "from sklearn.tree import DecisionTreeClassifier\n",
    "from sklearn.metrics import precision_score, recall_score, accuracy_score\n",
    "classifier= DecisionTreeClassifier(criterion='entropy', random_state=0)  \n",
    "classifier.fit(X_train, y_train)\n",
    "#Predict descision result \n",
    "decsn_pred= classifier.predict(X_test)\n",
    "accuracy_score(y_test,decsn_pred)\n",
    "\n",
    "print('Accuracy percent: ', accuracy_score(y_test, decsn_pred))\n",
    "print('Precision percent:', precision_score(y_test, decsn_pred))\n",
    "print('Recall percent:   ', recall_score(y_test, decsn_pred))\n"
   ]
  },
  {
   "cell_type": "code",
   "execution_count": 52,
   "id": "7412acfa",
   "metadata": {},
   "outputs": [],
   "source": [
    "# Decision tree\n",
    "from sklearn.metrics import confusion_matrix  \n",
    "import matplotlib.pyplot as plt\n",
    "dcsn_cm= confusion_matrix(y_test, decsn_pred)"
   ]
  },
  {
   "cell_type": "code",
   "execution_count": 53,
   "id": "6acf9e21",
   "metadata": {},
   "outputs": [
    {
     "data": {
      "image/png": "[encoded data removed]",
      "text/plain": [
       "<Figure size 288x288 with 1 Axes>"
      ]
     },
     "metadata": {
      "needs_background": "light"
     },
     "output_type": "display_data"
    }
   ],
   "source": [
    "from mlxtend.plotting import plot_confusion_matrix\n",
    "fig, ax = plot_confusion_matrix(dcsn_cm, figsize=(4, 4), cmap=plt.cm.Blues)\n",
    "plt.xlabel('Predicted', fontsize=14)\n",
    "plt.ylabel('Actual', fontsize=14)\n",
    "plt.title('Decision tree', fontsize=14)\n",
    "plt.show()"
   ]
  },
  {
   "cell_type": "code",
   "execution_count": 54,
   "id": "2d894bb7",
   "metadata": {},
   "outputs": [],
   "source": [
    "from sklearn import metrics\n",
    "from sklearn import datasets\n",
    "from sklearn.model_selection import train_test_split\n",
    "from sklearn.linear_model import LogisticRegression\n",
    "from sklearn.ensemble import GradientBoostingClassifier\n",
    "import numpy as np\n",
    "import matplotlib.pyplot as plt"
   ]
  },
  {
   "cell_type": "code",
   "execution_count": 56,
   "id": "3a021081",
   "metadata": {},
   "outputs": [
    {
     "data": {
      "text/plain": [
       "<matplotlib.legend.Legend at 0x1cd12f131f0>"
      ]
     },
     "execution_count": 56,
     "metadata": {},
     "output_type": "execute_result"
    },
    {
     "data": {
      "image/png": "[encoded data removed]",
      "text/plain": [
       "<Figure size 432x288 with 1 Axes>"
      ]
     },
     "metadata": {
      "needs_background": "light"
     },
     "output_type": "display_data"
    }
   ],
   "source": [
    "# configure plot area\n",
    "plt.figure(0).clf()\n",
    "\n",
    "#plot logistic regression model in ROC curve\n",
    "model = LogisticRegression()\n",
    "model.fit(X_train, y_train)\n",
    "y_r_pred = model.predict_proba(X_test)[:, 1]\n",
    "fpr, tpr, _ = metrics.roc_curve(y_test, y_pred)\n",
    "auc = round(metrics.roc_auc_score(y_test, y_pred), 4)\n",
    "plt.plot(fpr,tpr,label=\"Logistic Regression, AUC=\"+str(auc))\n",
    "\n",
    "#plot Naive Bayes model in  ROC curve\n",
    "model = GaussianNB()  \n",
    "model.fit(X_train, y_train)\n",
    "y_r_pred = model.predict_proba(X_test)[:, 1]\n",
    "fpr, tpr, _ = metrics.roc_curve(y_test, NB_pred)\n",
    "auc = round(metrics.roc_auc_score(y_test, NB_pred), 4)\n",
    "plt.plot(fpr,tpr,label=\"Naive Bayes, AUC=\"+str(auc))\n",
    "\n",
    "#plot Decision Tree model in ROC curve\n",
    "model = DecisionTreeClassifier(criterion='entropy', random_state=0) \n",
    "model.fit(X_train, y_train)\n",
    "y_r_pred = model.predict_proba(X_test)[:, 1]\n",
    "fpr, tpr, _ = metrics.roc_curve(y_test, decsn_pred)\n",
    "auc = round(metrics.roc_auc_score(y_test, decsn_pred), 4)\n",
    "plt.plot(fpr,tpr,label=\"Decision Tree, AUC=\"+str(auc))\n",
    "\n",
    "\n",
    "#plot KNN model in ROC curve\n",
    "model = KNeighborsClassifier(n_neighbors=5, metric='minkowski', p=2 )  \n",
    "model.fit(X_train, y_train)\n",
    "y_pred = model.predict_proba(X_test)[:, 1]\n",
    "fpr, tpr, _ = metrics.roc_curve(y_test, knn_pred)\n",
    "auc = round(metrics.roc_auc_score(y_test, knn_pred), 4)\n",
    "plt.plot(fpr,tpr,label=\"KNN, AUC=\"+str(auc))\n",
    "\n",
    "#plot ADA Boost model in ROC curve\n",
    "model = KNeighborsClassifier(n_neighbors=5, metric='minkowski', p=2 )  \n",
    "model.fit(X_train, y_train)\n",
    "y_r_pred = model.predict_proba(X_test)[:, 1]\n",
    "fpr, tpr, _ = metrics.roc_curve(y_test, ada_pred)\n",
    "auc = round(metrics.roc_auc_score(y_test, ada_pred), 4)\n",
    "plt.plot(fpr,tpr,label=\"ADABoost, AUC=\"+str(auc))\n",
    "\n",
    "\n",
    "#plot Rndom forest model in ROC curve\n",
    "model = RandomForestClassifier(n_estimators= 10, criterion=\"entropy\")  \n",
    "model.fit(X_train, y_train)\n",
    "y_r_pred = model.predict_proba(X_test)[:, 1]\n",
    "fpr, tpr, _ = metrics.roc_curve(y_test, y_rand_pred)\n",
    "auc = round(metrics.roc_auc_score(y_test, y_rand_pred), 4)\n",
    "plt.plot(fpr,tpr,label=\"Random forest, AUC=\"+str(auc))\n",
    "\n",
    "#plot SVC model in ROC curve\n",
    "model = SVC(probability=True)\n",
    "model.fit(X_train, y_train)\n",
    "y_r_pred = model.predict_proba(X_test)[:, 1]\n",
    "fpr, tpr, _ = metrics.roc_curve(y_test, y_svm_pred)\n",
    "auc = round(metrics.roc_auc_score(y_test, y_svm_pred), 4)\n",
    "plt.plot(fpr,tpr,label=\"SVC, AUC=\"+str(auc))\n",
    "\n",
    "\n",
    "#plot CNN model in ROC curve\n",
    "model.fit(X_train, y_train)\n",
    "\n",
    "y_r_pred = model.predict_proba(X_test)[:, 1]\n",
    "\n",
    "fpr, tpr, _  = metrics.roc_curve(y_test, nn_pred)\n",
    "auc = round(metrics.roc_auc_score(y_test, nn_pred), 4)\n",
    "plt.plot(fpr,tpr,label=\"Convolutional Neural Network\"+str(auc))\n",
    "\n",
    "\n",
    "\n",
    "#plot legend\n",
    "plt.legend()"
   ]
  },
  {
   "cell_type": "raw",
   "id": "4a042f01",
   "metadata": {},
   "source": []
  }
 ],
 "metadata": {
  "kernelspec": {
   "display_name": "Python 3 (ipykernel)",
   "language": "python",
   "name": "python3"
  },
  "language_info": {
   "codemirror_mode": {
    "name": "ipython",
    "version": 3
   },
   "file_extension": ".py",
   "mimetype": "text/x-python",
   "name": "python",
   "nbconvert_exporter": "python",
   "pygments_lexer": "ipython3",
   "version": "3.9.7"
  }
 },
 "nbformat": 4,
 "nbformat_minor": 5
}
